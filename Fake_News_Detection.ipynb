{
 "cells": [
  {
   "cell_type": "code",
   "execution_count": 1,
   "metadata": {},
   "outputs": [],
   "source": [
    "import pandas as pd\n",
    "import seaborn as sns\n",
    "import matplotlib.pyplot as plt\n",
    "from  sklearn.model_selection  import train_test_split\n",
    "from sklearn.metrics import accuracy_score\n",
    "from sklearn.metrics import classification_report, confusion_matrix\n",
    "import re\n",
    "from nltk.corpus import stopwords\n",
    "from nltk.stem.porter import PorterStemmer"
   ]
  },
  {
   "cell_type": "code",
   "execution_count": 2,
   "metadata": {},
   "outputs": [
    {
     "data": {
      "text/plain": [
       "(44919, 5)"
      ]
     },
     "execution_count": 2,
     "metadata": {},
     "output_type": "execute_result"
    }
   ],
   "source": [
    "news_df=pd.read_csv('News.csv', index_col=0)\n",
    "news_df.shape"
   ]
  },
  {
   "cell_type": "code",
   "execution_count": 3,
   "metadata": {},
   "outputs": [
    {
     "data": {
      "text/html": [
       "<div>\n",
       "<style scoped>\n",
       "    .dataframe tbody tr th:only-of-type {\n",
       "        vertical-align: middle;\n",
       "    }\n",
       "\n",
       "    .dataframe tbody tr th {\n",
       "        vertical-align: top;\n",
       "    }\n",
       "\n",
       "    .dataframe thead th {\n",
       "        text-align: right;\n",
       "    }\n",
       "</style>\n",
       "<table border=\"1\" class=\"dataframe\">\n",
       "  <thead>\n",
       "    <tr style=\"text-align: right;\">\n",
       "      <th></th>\n",
       "      <th>title</th>\n",
       "      <th>text</th>\n",
       "      <th>subject</th>\n",
       "      <th>date</th>\n",
       "      <th>class</th>\n",
       "    </tr>\n",
       "  </thead>\n",
       "  <tbody>\n",
       "    <tr>\n",
       "      <th>0</th>\n",
       "      <td>Donald Trump Sends Out Embarrassing New Year’...</td>\n",
       "      <td>Donald Trump just couldn t wish all Americans ...</td>\n",
       "      <td>News</td>\n",
       "      <td>December 31, 2017</td>\n",
       "      <td>0</td>\n",
       "    </tr>\n",
       "    <tr>\n",
       "      <th>1</th>\n",
       "      <td>Drunk Bragging Trump Staffer Started Russian ...</td>\n",
       "      <td>House Intelligence Committee Chairman Devin Nu...</td>\n",
       "      <td>News</td>\n",
       "      <td>December 31, 2017</td>\n",
       "      <td>0</td>\n",
       "    </tr>\n",
       "    <tr>\n",
       "      <th>2</th>\n",
       "      <td>Sheriff David Clarke Becomes An Internet Joke...</td>\n",
       "      <td>On Friday, it was revealed that former Milwauk...</td>\n",
       "      <td>News</td>\n",
       "      <td>December 30, 2017</td>\n",
       "      <td>0</td>\n",
       "    </tr>\n",
       "    <tr>\n",
       "      <th>3</th>\n",
       "      <td>Trump Is So Obsessed He Even Has Obama’s Name...</td>\n",
       "      <td>On Christmas day, Donald Trump announced that ...</td>\n",
       "      <td>News</td>\n",
       "      <td>December 29, 2017</td>\n",
       "      <td>0</td>\n",
       "    </tr>\n",
       "    <tr>\n",
       "      <th>4</th>\n",
       "      <td>Pope Francis Just Called Out Donald Trump Dur...</td>\n",
       "      <td>Pope Francis used his annual Christmas Day mes...</td>\n",
       "      <td>News</td>\n",
       "      <td>December 25, 2017</td>\n",
       "      <td>0</td>\n",
       "    </tr>\n",
       "  </tbody>\n",
       "</table>\n",
       "</div>"
      ],
      "text/plain": [
       "                                               title  \\\n",
       "0   Donald Trump Sends Out Embarrassing New Year’...   \n",
       "1   Drunk Bragging Trump Staffer Started Russian ...   \n",
       "2   Sheriff David Clarke Becomes An Internet Joke...   \n",
       "3   Trump Is So Obsessed He Even Has Obama’s Name...   \n",
       "4   Pope Francis Just Called Out Donald Trump Dur...   \n",
       "\n",
       "                                                text subject  \\\n",
       "0  Donald Trump just couldn t wish all Americans ...    News   \n",
       "1  House Intelligence Committee Chairman Devin Nu...    News   \n",
       "2  On Friday, it was revealed that former Milwauk...    News   \n",
       "3  On Christmas day, Donald Trump announced that ...    News   \n",
       "4  Pope Francis used his annual Christmas Day mes...    News   \n",
       "\n",
       "                date  class  \n",
       "0  December 31, 2017      0  \n",
       "1  December 31, 2017      0  \n",
       "2  December 30, 2017      0  \n",
       "3  December 29, 2017      0  \n",
       "4  December 25, 2017      0  "
      ]
     },
     "execution_count": 3,
     "metadata": {},
     "output_type": "execute_result"
    }
   ],
   "source": [
    "news_df.head()"
   ]
  },
  {
   "cell_type": "code",
   "execution_count": 4,
   "metadata": {},
   "outputs": [
    {
     "data": {
      "text/html": [
       "<div>\n",
       "<style scoped>\n",
       "    .dataframe tbody tr th:only-of-type {\n",
       "        vertical-align: middle;\n",
       "    }\n",
       "\n",
       "    .dataframe tbody tr th {\n",
       "        vertical-align: top;\n",
       "    }\n",
       "\n",
       "    .dataframe thead th {\n",
       "        text-align: right;\n",
       "    }\n",
       "</style>\n",
       "<table border=\"1\" class=\"dataframe\">\n",
       "  <thead>\n",
       "    <tr style=\"text-align: right;\">\n",
       "      <th></th>\n",
       "      <th>text</th>\n",
       "      <th>class</th>\n",
       "    </tr>\n",
       "  </thead>\n",
       "  <tbody>\n",
       "    <tr>\n",
       "      <th>0</th>\n",
       "      <td>Donald Trump just couldn t wish all Americans ...</td>\n",
       "      <td>0</td>\n",
       "    </tr>\n",
       "    <tr>\n",
       "      <th>1</th>\n",
       "      <td>House Intelligence Committee Chairman Devin Nu...</td>\n",
       "      <td>0</td>\n",
       "    </tr>\n",
       "    <tr>\n",
       "      <th>2</th>\n",
       "      <td>On Friday, it was revealed that former Milwauk...</td>\n",
       "      <td>0</td>\n",
       "    </tr>\n",
       "    <tr>\n",
       "      <th>3</th>\n",
       "      <td>On Christmas day, Donald Trump announced that ...</td>\n",
       "      <td>0</td>\n",
       "    </tr>\n",
       "    <tr>\n",
       "      <th>4</th>\n",
       "      <td>Pope Francis used his annual Christmas Day mes...</td>\n",
       "      <td>0</td>\n",
       "    </tr>\n",
       "  </tbody>\n",
       "</table>\n",
       "</div>"
      ],
      "text/plain": [
       "                                                text  class\n",
       "0  Donald Trump just couldn t wish all Americans ...      0\n",
       "1  House Intelligence Committee Chairman Devin Nu...      0\n",
       "2  On Friday, it was revealed that former Milwauk...      0\n",
       "3  On Christmas day, Donald Trump announced that ...      0\n",
       "4  Pope Francis used his annual Christmas Day mes...      0"
      ]
     },
     "execution_count": 4,
     "metadata": {},
     "output_type": "execute_result"
    }
   ],
   "source": [
    "data=news_df.drop([\"title\",\"subject\",\"date\"],axis=1)\n",
    "data.head()"
   ]
  },
  {
   "cell_type": "code",
   "execution_count": 5,
   "metadata": {},
   "outputs": [
    {
     "data": {
      "text/plain": [
       "text     0\n",
       "class    0\n",
       "dtype: int64"
      ]
     },
     "execution_count": 5,
     "metadata": {},
     "output_type": "execute_result"
    }
   ],
   "source": [
    "data.isnull().sum()"
   ]
  },
  {
   "cell_type": "code",
   "execution_count": 6,
   "metadata": {},
   "outputs": [],
   "source": [
    "# Shuffling \n",
    "data = data.sample(frac=1) \n",
    "data.reset_index(inplace=True) \n",
    "data.drop([\"index\"], axis=1, inplace=True) \n"
   ]
  },
  {
   "cell_type": "code",
   "execution_count": 7,
   "metadata": {},
   "outputs": [],
   "source": [
    "\n",
    "ps = PorterStemmer()\n",
    "def stemming(content):\n",
    "    stemmed_content = re.sub('[^a-zA-Z]',' ',content)\n",
    "    stemmed_content = stemmed_content.lower()\n",
    "    stemmed_content = stemmed_content.split()\n",
    "    stemmed_content = [ps.stem(word) for word in stemmed_content if not word in stopwords.words('english')]\n",
    "    stemmed_content = ' '.join(stemmed_content)\n",
    "    return stemmed_content"
   ]
  },
  {
   "cell_type": "code",
   "execution_count": 8,
   "metadata": {},
   "outputs": [
    {
     "data": {
      "text/plain": [
       "0        georgia middl school scienc teacher paraprofes...\n",
       "1        washington reuter u senat plan vote tax overha...\n",
       "2        poor kid probabl practic month perform cancel ...\n",
       "3        descript advertis racist wear facebook white f...\n",
       "4        chicago reuter london first muslim mayor sadiq...\n",
       "                               ...                        \n",
       "44914    come surpris anyon watch thug action line unio...\n",
       "44915    whitney webb mint pressbush axi evil speech pr...\n",
       "44916    unit nation reuter unit nation launch roadmap ...\n",
       "44917    berlin reuter german chancellor angela merkel ...\n",
       "44918    kabul reuter u militari servic member die resu...\n",
       "Name: text, Length: 44919, dtype: object"
      ]
     },
     "execution_count": 8,
     "metadata": {},
     "output_type": "execute_result"
    }
   ],
   "source": [
    "data['text'] = data['text'].apply(stemming)\n",
    "data['text']\n"
   ]
  },
  {
   "cell_type": "code",
   "execution_count": 9,
   "metadata": {},
   "outputs": [],
   "source": [
    "x = data['text']\n",
    "y = data['class']\n",
    "x_train, x_test, y_train, y_test= train_test_split(x,y,test_size=0.20,random_state=42)"
   ]
  },
  {
   "cell_type": "code",
   "execution_count": 10,
   "metadata": {},
   "outputs": [],
   "source": [
    "from sklearn.feature_extraction.text import TfidfVectorizer \n",
    "  \n",
    "vectorization = TfidfVectorizer() \n",
    "x_train = vectorization.fit_transform(x_train) \n",
    "x_test = vectorization.transform(x_test)"
   ]
  },
  {
   "cell_type": "markdown",
   "metadata": {},
   "source": []
  },
  {
   "cell_type": "code",
   "execution_count": 11,
   "metadata": {},
   "outputs": [
    {
     "name": "stdout",
     "output_type": "stream",
     "text": [
      "  (0, 69163)\t0.09028984919132639\n",
      "  (0, 23740)\t0.13875503420104957\n",
      "  (0, 62365)\t0.0929621401935825\n",
      "  (0, 32510)\t0.1306367695809418\n",
      "  (0, 16200)\t0.15571636714723958\n",
      "  (0, 4786)\t0.06337204400591896\n",
      "  (0, 2068)\t0.051849756822762494\n",
      "  (0, 44032)\t0.14002167283973674\n",
      "  (0, 2675)\t0.13971058090243596\n",
      "  (0, 11302)\t0.13896932396378778\n",
      "  (0, 19841)\t0.06120099424296351\n",
      "  (0, 25418)\t0.12534990539675792\n",
      "  (0, 15851)\t0.06388329499227154\n",
      "  (0, 72386)\t0.0605868809007184\n",
      "  (0, 13230)\t0.06558220144453744\n",
      "  (0, 7402)\t0.13669876336266182\n",
      "  (0, 13860)\t0.19768314049010755\n",
      "  (0, 22964)\t0.13237767324773364\n",
      "  (0, 65076)\t0.09324083848589805\n",
      "  (0, 54098)\t0.07759731236568813\n",
      "  (0, 44480)\t0.14654341915298283\n",
      "  (0, 58088)\t0.16024487270419366\n",
      "  (0, 16242)\t0.09693729434281881\n",
      "  (0, 16199)\t0.15853496682793622\n",
      "  (0, 45499)\t0.1674104144642672\n",
      "  :\t:\n",
      "  (35934, 31619)\t0.19770933755605666\n",
      "  (35934, 67041)\t0.14121471250710105\n",
      "  (35934, 57585)\t0.1130272581928056\n",
      "  (35934, 79526)\t0.13206826154481574\n",
      "  (35934, 76272)\t0.09854281685197608\n",
      "  (35934, 19228)\t0.1674400061170083\n",
      "  (35934, 21487)\t0.12835857632407932\n",
      "  (35934, 77936)\t0.09508721744669639\n",
      "  (35934, 2301)\t0.18706976650387372\n",
      "  (35934, 52054)\t0.08959542318853643\n",
      "  (35934, 6155)\t0.09609138426863727\n",
      "  (35934, 73464)\t0.07741477562965515\n",
      "  (35934, 58192)\t0.11055577848562835\n",
      "  (35934, 49090)\t0.11528544222999641\n",
      "  (35934, 66289)\t0.058706259775964276\n",
      "  (35934, 63153)\t0.11954238802286042\n",
      "  (35934, 39055)\t0.08852561232627239\n",
      "  (35934, 21235)\t0.10464930175271694\n",
      "  (35934, 79118)\t0.06285815726123048\n",
      "  (35934, 68088)\t0.11536601875201716\n",
      "  (35934, 49708)\t0.08613874972745554\n",
      "  (35934, 73184)\t0.1280509677483957\n",
      "  (35934, 21435)\t0.13565842563039418\n",
      "  (35934, 65076)\t0.23178883890332175\n",
      "  (35934, 19370)\t0.23693267250928618\n"
     ]
    }
   ],
   "source": [
    "print(x_train)"
   ]
  },
  {
   "cell_type": "code",
   "execution_count": 12,
   "metadata": {},
   "outputs": [
    {
     "name": "stdout",
     "output_type": "stream",
     "text": [
      "  (0, 77982)\t0.06374208339536848\n",
      "  (0, 77936)\t0.0526644742365605\n",
      "  (0, 76272)\t0.0545783731888907\n",
      "  (0, 76106)\t0.04373462942525958\n",
      "  (0, 75611)\t0.10002970209957664\n",
      "  (0, 75143)\t0.1300704233791018\n",
      "  (0, 75103)\t0.0576602322280365\n",
      "  (0, 75030)\t0.08953555257591438\n",
      "  (0, 73464)\t0.042876514490105454\n",
      "  (0, 71778)\t0.077220126945566\n",
      "  (0, 71596)\t0.25941418622716594\n",
      "  (0, 69718)\t0.16996659375066633\n",
      "  (0, 69026)\t0.05968425902760423\n",
      "  (0, 67573)\t0.08394087280292196\n",
      "  (0, 67047)\t0.12686116792760108\n",
      "  (0, 66289)\t0.03251472057460563\n",
      "  (0, 66151)\t0.09840337832858986\n",
      "  (0, 65630)\t0.059612762572365446\n",
      "  (0, 62607)\t0.1672412602357839\n",
      "  (0, 62393)\t0.10159733507830572\n",
      "  (0, 62372)\t0.06262675154403094\n",
      "  (0, 62080)\t0.07764071061390322\n",
      "  (0, 61500)\t0.0689028573785694\n",
      "  (0, 61379)\t0.11734707840394248\n",
      "  (0, 61107)\t0.15846839645028654\n",
      "  :\t:\n",
      "  (8983, 9448)\t0.020574718626758887\n",
      "  (8983, 9297)\t0.05187492116067094\n",
      "  (8983, 9063)\t0.07331250508859441\n",
      "  (8983, 8851)\t0.05767682102230515\n",
      "  (8983, 8462)\t0.040079151529283284\n",
      "  (8983, 8183)\t0.06709044083566203\n",
      "  (8983, 6896)\t0.04819769902972917\n",
      "  (8983, 6535)\t0.024021929852762792\n",
      "  (8983, 6033)\t0.024890198543472648\n",
      "  (8983, 5907)\t0.059630323635553845\n",
      "  (8983, 5243)\t0.04112167294498701\n",
      "  (8983, 4776)\t0.1123231333521024\n",
      "  (8983, 4177)\t0.028377087666781778\n",
      "  (8983, 3449)\t0.044966364604570715\n",
      "  (8983, 3178)\t0.02778623766739539\n",
      "  (8983, 2523)\t0.030471235830224437\n",
      "  (8983, 2314)\t0.07331250508859441\n",
      "  (8983, 2301)\t0.018471108422360084\n",
      "  (8983, 1930)\t0.03146056946624457\n",
      "  (8983, 1857)\t0.03768263371917697\n",
      "  (8983, 1822)\t0.03733432704933744\n",
      "  (8983, 1694)\t0.04843512156407338\n",
      "  (8983, 1211)\t0.050971977757395474\n",
      "  (8983, 453)\t0.016839910427063884\n",
      "  (8983, 364)\t0.026964278020381018\n"
     ]
    }
   ],
   "source": [
    "print(x_test)"
   ]
  },
  {
   "cell_type": "code",
   "execution_count": 13,
   "metadata": {},
   "outputs": [
    {
     "name": "stdout",
     "output_type": "stream",
     "text": [
      "Accuracy Score of Logistic Regression Model: 94.45681211041853\n"
     ]
    }
   ],
   "source": [
    "from sklearn.linear_model import LogisticRegression\n",
    "LR = LogisticRegression(max_iter=1000, penalty='l2',C=0.01, solver='lbfgs')\n",
    "LR.fit(x_train, y_train)\n",
    "pred_lr = LR.predict(x_test)\n",
    "lr_acc_score = accuracy_score(y_test, pred_lr)\n",
    "print(\"Accuracy Score of Logistic Regression Model:\", lr_acc_score * 100)\n"
   ]
  },
  {
   "cell_type": "code",
   "execution_count": 14,
   "metadata": {},
   "outputs": [
    {
     "data": {
      "image/png": "[encoded data removed]",
      "text/plain": [
       "<Figure size 800x500 with 2 Axes>"
      ]
     },
     "metadata": {},
     "output_type": "display_data"
    },
    {
     "name": "stdout",
     "output_type": "stream",
     "text": [
      "              precision    recall  f1-score   support\n",
      "\n",
      "           0       0.93      0.96      0.95      4701\n",
      "           1       0.96      0.93      0.94      4283\n",
      "\n",
      "    accuracy                           0.94      8984\n",
      "   macro avg       0.95      0.94      0.94      8984\n",
      "weighted avg       0.94      0.94      0.94      8984\n",
      "\n"
     ]
    }
   ],
   "source": [
    "cm=confusion_matrix(y_test, pred_lr)\n",
    "conf_matrix= pd.DataFrame(data=cm, columns=['Predicted:0', 'predicted:1'],index=['Actual:0','Actual:1'])\n",
    "plt.figure(figsize = (8, 5))\n",
    "sns.heatmap(conf_matrix, annot = True, fmt = 'd', cmap = \"Greens\")\n",
    "plt.show()\n",
    "print(classification_report(y_test, pred_lr))\n"
   ]
  },
  {
   "cell_type": "code",
   "execution_count": 15,
   "metadata": {},
   "outputs": [
    {
     "name": "stdout",
     "output_type": "stream",
     "text": [
      "Accuracy Score of Gradient Boosting Model: 99.57702582368655\n"
     ]
    }
   ],
   "source": [
    "from sklearn.ensemble import GradientBoostingClassifier \n",
    "GB = GradientBoostingClassifier(n_estimators=20, max_depth=5, learning_rate=0.01)\n",
    "GB.fit(x_train, y_train)\n",
    "pred_gb =GB.predict(x_test)\n",
    "gb_acc_score = accuracy_score(y_test, pred_gb)\n",
    "print(\"Accuracy Score of Gradient Boosting Model:\", gb_acc_score * 100)\n"
   ]
  },
  {
   "cell_type": "code",
   "execution_count": 16,
   "metadata": {},
   "outputs": [
    {
     "data": {
      "image/png": "[encoded data removed]",
      "text/plain": [
       "<Figure size 800x500 with 2 Axes>"
      ]
     },
     "metadata": {},
     "output_type": "display_data"
    },
    {
     "name": "stdout",
     "output_type": "stream",
     "text": [
      "              precision    recall  f1-score   support\n",
      "\n",
      "           0       1.00      0.99      1.00      4701\n",
      "           1       0.99      1.00      1.00      4283\n",
      "\n",
      "    accuracy                           1.00      8984\n",
      "   macro avg       1.00      1.00      1.00      8984\n",
      "weighted avg       1.00      1.00      1.00      8984\n",
      "\n"
     ]
    }
   ],
   "source": [
    "cm=confusion_matrix(y_test, pred_gb)\n",
    "conf_matrix= pd.DataFrame(data=cm, columns=['Predicted:0', 'predicted:1'],index=['Actual:0','Actual:1'])\n",
    "plt.figure(figsize = (8, 5))\n",
    "sns.heatmap(conf_matrix, annot = True, fmt = 'd', cmap = \"Greens\")\n",
    "plt.show()\n",
    "print(classification_report(y_test, pred_gb))"
   ]
  },
  {
   "cell_type": "code",
   "execution_count": 37,
   "metadata": {},
   "outputs": [
    {
     "name": "stdout",
     "output_type": "stream",
     "text": [
      "Accuracy Score of Random Forest Model: 86.92119323241317\n"
     ]
    }
   ],
   "source": [
    "from sklearn.ensemble import RandomForestClassifier\n",
    "RF = RandomForestClassifier(random_state=4, n_estimators=20, max_depth=5)\n",
    "RF.fit(x_train, y_train)\n",
    "pred_rf = RF.predict(x_test)\n",
    "rf_acc_score = accuracy_score(y_test, pred_rf)\n",
    "print(\"Accuracy Score of Random Forest Model:\", rf_acc_score * 100)"
   ]
  },
  {
   "cell_type": "code",
   "execution_count": 18,
   "metadata": {},
   "outputs": [
    {
     "data": {
      "image/png": "[encoded data removed]",
      "text/plain": [
       "<Figure size 800x500 with 2 Axes>"
      ]
     },
     "metadata": {},
     "output_type": "display_data"
    },
    {
     "name": "stdout",
     "output_type": "stream",
     "text": [
      "              precision    recall  f1-score   support\n",
      "\n",
      "           0       0.87      0.89      0.88      4701\n",
      "           1       0.87      0.85      0.86      4283\n",
      "\n",
      "    accuracy                           0.87      8984\n",
      "   macro avg       0.87      0.87      0.87      8984\n",
      "weighted avg       0.87      0.87      0.87      8984\n",
      "\n"
     ]
    }
   ],
   "source": [
    "cm=confusion_matrix(y_test, pred_rf)\n",
    "conf_matrix= pd.DataFrame(data=cm, columns=['Predicted:0', 'predicted:1'],index=['Actual:0','Actual:1'])\n",
    "plt.figure(figsize = (8, 5))\n",
    "sns.heatmap(conf_matrix, annot = True, fmt = 'd', cmap = \"Greens\")\n",
    "plt.show()\n",
    "print(classification_report(y_test, pred_rf))"
   ]
  },
  {
   "cell_type": "code",
   "execution_count": 19,
   "metadata": {},
   "outputs": [
    {
     "name": "stdout",
     "output_type": "stream",
     "text": [
      "Accuracy Score of K-Nearest Neighbors: 64.64826357969724\n"
     ]
    }
   ],
   "source": [
    "from sklearn.neighbors import KNeighborsClassifier\n",
    "\n",
    "knn=KNeighborsClassifier(n_neighbors=5)\n",
    "knn.fit(x_train,y_train)\n",
    "pred_knn=knn.predict(x_test)\n",
    "knn_acc_score=accuracy_score(y_test, pred_knn)\n",
    "print(\"Accuracy Score of K-Nearest Neighbors:\",knn_acc_score*100)"
   ]
  },
  {
   "cell_type": "code",
   "execution_count": 20,
   "metadata": {},
   "outputs": [
    {
     "data": {
      "image/png": "[encoded data removed]",
      "text/plain": [
       "<Figure size 800x500 with 2 Axes>"
      ]
     },
     "metadata": {},
     "output_type": "display_data"
    },
    {
     "name": "stdout",
     "output_type": "stream",
     "text": [
      "              precision    recall  f1-score   support\n",
      "\n",
      "           0       0.60      0.99      0.74      4701\n",
      "           1       0.95      0.27      0.42      4283\n",
      "\n",
      "    accuracy                           0.65      8984\n",
      "   macro avg       0.77      0.63      0.58      8984\n",
      "weighted avg       0.77      0.65      0.59      8984\n",
      "\n"
     ]
    }
   ],
   "source": [
    "cm=confusion_matrix(y_test, pred_knn)\n",
    "conf_matrix= pd.DataFrame(data=cm, columns=['Predicted:0', 'predicted:1'],index=['Actual:0','Actual:1'])\n",
    "plt.figure(figsize = (8, 5))\n",
    "sns.heatmap(conf_matrix, annot = True, fmt = 'd', cmap = \"Greens\")\n",
    "plt.show()\n",
    "print(classification_report(y_test, pred_knn))"
   ]
  },
  {
   "cell_type": "code",
   "execution_count": 21,
   "metadata": {},
   "outputs": [
    {
     "name": "stdout",
     "output_type": "stream",
     "text": [
      "Accuracy Score of the Support Vector Machine: 99.54363312555654\n"
     ]
    }
   ],
   "source": [
    "from sklearn.svm import SVC\n",
    "\n",
    "svc=SVC(kernel='rbf', C=10)\n",
    "svc.fit(x_train,y_train)\n",
    "pred_svc=svc.predict(x_test)\n",
    "svc_acc_score=accuracy_score(y_test, pred_svc)\n",
    "print(\"Accuracy Score of the Support Vector Machine:\",svc_acc_score*100)"
   ]
  },
  {
   "cell_type": "code",
   "execution_count": 22,
   "metadata": {},
   "outputs": [
    {
     "data": {
      "image/png": "[encoded data removed]",
      "text/plain": [
       "<Figure size 800x500 with 2 Axes>"
      ]
     },
     "metadata": {},
     "output_type": "display_data"
    },
    {
     "name": "stdout",
     "output_type": "stream",
     "text": [
      "              precision    recall  f1-score   support\n",
      "\n",
      "           0       1.00      1.00      1.00      4701\n",
      "           1       0.99      1.00      1.00      4283\n",
      "\n",
      "    accuracy                           1.00      8984\n",
      "   macro avg       1.00      1.00      1.00      8984\n",
      "weighted avg       1.00      1.00      1.00      8984\n",
      "\n"
     ]
    }
   ],
   "source": [
    "cm=confusion_matrix(y_test, pred_svc)\n",
    "conf_matrix= pd.DataFrame(data=cm, columns=['Predicted:0', 'predicted:1'],index=['Actual:0','Actual:1'])\n",
    "plt.figure(figsize = (8, 5))\n",
    "sns.heatmap(conf_matrix, annot = True, fmt = 'd', cmap = \"Greens\")\n",
    "plt.show()\n",
    "print(classification_report(y_test, pred_svc))"
   ]
  },
  {
   "cell_type": "code",
   "execution_count": 30,
   "metadata": {},
   "outputs": [
    {
     "data": {
      "text/html": [
       "<div>\n",
       "<style scoped>\n",
       "    .dataframe tbody tr th:only-of-type {\n",
       "        vertical-align: middle;\n",
       "    }\n",
       "\n",
       "    .dataframe tbody tr th {\n",
       "        vertical-align: top;\n",
       "    }\n",
       "\n",
       "    .dataframe thead th {\n",
       "        text-align: right;\n",
       "    }\n",
       "</style>\n",
       "<table border=\"1\" class=\"dataframe\">\n",
       "  <thead>\n",
       "    <tr style=\"text-align: right;\">\n",
       "      <th></th>\n",
       "      <th>Model</th>\n",
       "      <th>Accuracy</th>\n",
       "    </tr>\n",
       "  </thead>\n",
       "  <tbody>\n",
       "    <tr>\n",
       "      <th>0</th>\n",
       "      <td>Logistic Regression</td>\n",
       "      <td>94.456812</td>\n",
       "    </tr>\n",
       "    <tr>\n",
       "      <th>1</th>\n",
       "      <td>Random Forest</td>\n",
       "      <td>86.921193</td>\n",
       "    </tr>\n",
       "    <tr>\n",
       "      <th>2</th>\n",
       "      <td>K-Nearest Neighbour</td>\n",
       "      <td>64.648264</td>\n",
       "    </tr>\n",
       "    <tr>\n",
       "      <th>3</th>\n",
       "      <td>Support Vector Machine</td>\n",
       "      <td>99.543633</td>\n",
       "    </tr>\n",
       "  </tbody>\n",
       "</table>\n",
       "</div>"
      ],
      "text/plain": [
       "                    Model   Accuracy\n",
       "0     Logistic Regression  94.456812\n",
       "1           Random Forest  86.921193\n",
       "2     K-Nearest Neighbour  64.648264\n",
       "3  Support Vector Machine  99.543633"
      ]
     },
     "execution_count": 30,
     "metadata": {},
     "output_type": "execute_result"
    }
   ],
   "source": [
    "model_ev = pd.DataFrame({'Model': ['Logistic Regression','Random Forest',\n",
    "                    'K-Nearest Neighbour','Support Vector Machine'], 'Accuracy': [lr_acc_score*100,\n",
    "                    rf_acc_score*100,knn_acc_score*100,svc_acc_score*100]})\n",
    "model_ev\n"
   ]
  },
  {
   "cell_type": "code",
   "execution_count": 41,
   "metadata": {},
   "outputs": [
    {
     "data": {
      "image/png": "[encoded data removed]",
      "text/plain": [
       "<Figure size 1200x500 with 1 Axes>"
      ]
     },
     "metadata": {},
     "output_type": "display_data"
    }
   ],
   "source": [
    "colors = ['red','green','blue','yellow']\n",
    "plt.figure(figsize=(12,5))\n",
    "plt.title(\"Accuracy Representation of Different Models using Bar Graph\")\n",
    "plt.xlabel(\"Algorithms\")\n",
    "plt.ylabel(\"Accuracy %\")\n",
    "plt.bar(model_ev['Model'],model_ev['Accuracy'],color = colors)\n",
    "plt.show()"
   ]
  },
  {
   "cell_type": "code",
   "execution_count": 27,
   "metadata": {},
   "outputs": [],
   "source": [
    "def output_label(n):\n",
    "    if n == 0:\n",
    "        return \"Fake News\"\n",
    "    elif n == 1:\n",
    "        return \"Not A Fake News\"\n",
    "    "
   ]
  },
  {
   "cell_type": "code",
   "execution_count": 48,
   "metadata": {},
   "outputs": [],
   "source": [
    "def manual_testing(news):\n",
    "    stemmed_news = stemming(news) \n",
    "    testing_news = {\"text\": [stemmed_news]}\n",
    "    new_def_test = pd.DataFrame(testing_news)\n",
    "    new_x_test = new_def_test['text'] \n",
    "    new_xv_test = vectorization.transform(new_x_test) \n",
    "    pred_LR = LR.predict(new_xv_test)\n",
    "    pred_RF = RF.predict(new_xv_test)\n",
    "    pred_KNN = knn.predict(new_xv_test)\n",
    "    pred_SVC = svc.predict(new_xv_test)\n",
    "    print(f\"\\nLR Prediction: {output_label(pred_LR[0])}\")\n",
    "    print(f\"RF Prediction: {output_label(pred_RF[0])}\")\n",
    "    print(f\"KNN Prediction: {output_label(pred_KNN[0])}\")\n",
    "    print(f\"SVM Prediction: {output_label(pred_SVC[0])}\")\n",
    "    "
   ]
  },
  {
   "cell_type": "code",
   "execution_count": 49,
   "metadata": {},
   "outputs": [
    {
     "name": "stdout",
     "output_type": "stream",
     "text": [
      "\n",
      "LR Prediction: Not A Fake News\n",
      "RF Prediction: Not A Fake News\n",
      "KNN Prediction: Fake News\n",
      "SVM Prediction: Not A Fake News\n"
     ]
    }
   ],
   "source": [
    "news= input(\"Enter the News:\")\n",
    "manual_testing(news)\n"
   ]
  },
  {
   "cell_type": "code",
   "execution_count": null,
   "metadata": {},
   "outputs": [],
   "source": [
    "\"\"\" SOCHI, Russia (Reuters) - Russian President \n",
    "    Vladimir Putin said on Thursday that \n",
    "    if President Donald Trump is unpredictable, \n",
    "    it is because his domestic opponents are stopping him\n",
    "    from delivering on many of his election promises.         \"\"\""
   ]
  },
  {
   "cell_type": "code",
   "execution_count": null,
   "metadata": {},
   "outputs": [],
   "source": []
  }
 ],
 "metadata": {
  "kernelspec": {
   "display_name": "Python 3",
   "language": "python",
   "name": "python3"
  },
  "language_info": {
   "codemirror_mode": {
    "name": "ipython",
    "version": 3
   },
   "file_extension": ".py",
   "mimetype": "text/x-python",
   "name": "python",
   "nbconvert_exporter": "python",
   "pygments_lexer": "ipython3",
   "version": "3.12.1"
  }
 },
 "nbformat": 4,
 "nbformat_minor": 2
}
